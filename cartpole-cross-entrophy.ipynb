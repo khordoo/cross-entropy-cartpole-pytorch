{
 "cells": [
  {
   "cell_type": "code",
   "execution_count": 21,
   "metadata": {},
   "outputs": [],
   "source": [
    "import gym\n",
    "import torch\n",
    "import torch.nn as nn\n",
    "import torch.optim as optim\n",
    "import numpy as np\n",
    "from tensorboardX import SummaryWriter\n",
    "HIDDEN_SIZE = 128\n",
    "BATCh_SIZE = 16\n",
    "PERCENTILE = 70"
   ]
  },
  {
   "cell_type": "code",
   "execution_count": 24,
   "metadata": {},
   "outputs": [
    {
     "name": "stderr",
     "output_type": "stream",
     "text": [
      "/usr/local/lib/python3.7/site-packages/ipykernel_launcher.py:29: UserWarning: Implicit dimension choice for softmax has been deprecated. Change the call to include dim=X as an argument.\n"
     ]
    },
    {
     "name": "stdout",
     "output_type": "stream",
     "text": [
      "Itr:37, loss :0.5390013456344604, mean reward: 218.1875\n",
      "Solved\n"
     ]
    }
   ],
   "source": [
    "class Net(nn.Module):\n",
    "    def __init__(self, input_size, hidden_size, output_size):\n",
    "        super(Net, self).__init__()\n",
    "        self.model = nn.Sequential(\n",
    "            nn.Linear(input_size, hidden_size),\n",
    "            nn.ReLU(),\n",
    "            nn.Linear(hidden_size, output_size),\n",
    "        )\n",
    "    def forward(self, x):\n",
    "        return self.model(x)\n",
    "\n",
    "\n",
    "class Episode:\n",
    "    def __init__(self):\n",
    "        self.total_reward = 0\n",
    "        self.observations = []\n",
    "        self.actions = []\n",
    "\n",
    "\n",
    "def episode_batch_generator(env, model, batch_size):\n",
    "    batch = []\n",
    "    obs = env.reset()\n",
    "    episode = Episode()\n",
    "    softmax = nn.Softmax()\n",
    "    while True:\n",
    "        actions_val = model(torch.FloatTensor([obs]))\n",
    "        actions_prob = softmax(actions_val)\n",
    "        actions_prob = actions_prob.data.numpy()[0]\n",
    "        action = np.random.choice(env.action_space.n, p=actions_prob)\n",
    "        obs_next, reward, done, _ = env.step(action)\n",
    "        episode.total_reward += reward\n",
    "        episode.actions.append(action)\n",
    "        episode.observations.append(obs)\n",
    "        if done:\n",
    "            if len(batch) == batch_size:\n",
    "                yield batch\n",
    "                batch = []\n",
    "            batch.append(episode)\n",
    "            episode = Episode()\n",
    "            obs_next = env.reset()\n",
    "\n",
    "        obs = obs_next\n",
    "\n",
    "\n",
    "def filter_elite_episodes(batch, min_reward_percentice):\n",
    "    actions, observations = [], []\n",
    "    rewards = list(map(lambda e: e.total_reward, batch))\n",
    "    reward_boundary = np.percentile(rewards, min_reward_percentice)\n",
    "    observations, action_spaces = [], []\n",
    "    for episode in batch:\n",
    "        if episode.total_reward < reward_boundary:\n",
    "            continue\n",
    "\n",
    "        observations.extend(episode.observations)\n",
    "        actions.extend(episode.actions)\n",
    "    mean_rewards = np.mean(rewards)\n",
    "    return torch.FloatTensor(observations), torch.LongTensor(actions), mean_rewards\n",
    "\n",
    "def train():\n",
    "    env = gym.make('CartPole-v1')\n",
    "    model = Net(env.observation_space.shape[0], HIDDEN_SIZE, env.action_space.n)\n",
    "    optimizer = optim.Adam(model.parameters(), lr=0.01 ,amsgrad=True)\n",
    "    loss_fn = nn.CrossEntropyLoss()\n",
    "    writer = SummaryWriter()\n",
    "    for itr, batch in enumerate(episode_batch_generator(env, model, BATCh_SIZE)):\n",
    "        observations, actions, mean_rewards = filter_elite_episodes(batch, PERCENTILE)\n",
    "        optimizer.zero_grad()\n",
    "        actions_val = model(observations)\n",
    "        loss = loss_fn(actions_val, actions)\n",
    "        loss.backward()\n",
    "        optimizer.step()\n",
    "        writer.add_scalar('loss', loss.item(), itr)\n",
    "        writer.add_scalar('reward', mean_rewards.item(), itr)\n",
    "        print(f'\\rItr:{itr}, loss :{loss}, mean reward: {mean_rewards}', end='')\n",
    "        if mean_rewards > 199:\n",
    "            print('\\nSolved')\n",
    "            break\n",
    "    writer.close()\n",
    "\n",
    "if __name__ == '__main__':\n",
    "    train()"
   ]
  }
 ],
 "metadata": {
  "kernelspec": {
   "display_name": "Python 3",
   "language": "python",
   "name": "python3"
  },
  "language_info": {
   "codemirror_mode": {
    "name": "ipython",
    "version": 3
   },
   "file_extension": ".py",
   "mimetype": "text/x-python",
   "name": "python",
   "nbconvert_exporter": "python",
   "pygments_lexer": "ipython3",
   "version": "3.7.7"
  }
 },
 "nbformat": 4,
 "nbformat_minor": 2
}
